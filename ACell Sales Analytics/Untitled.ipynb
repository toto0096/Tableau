{
 "cells": [
  {
   "cell_type": "code",
   "execution_count": 3,
   "metadata": {},
   "outputs": [],
   "source": [
    "import pandas as pd\n",
    "import numpy as np"
   ]
  },
  {
   "cell_type": "code",
   "execution_count": 4,
   "metadata": {
    "scrolled": true
   },
   "outputs": [
    {
     "data": {
      "text/html": [
       "<div>\n",
       "<style scoped>\n",
       "    .dataframe tbody tr th:only-of-type {\n",
       "        vertical-align: middle;\n",
       "    }\n",
       "\n",
       "    .dataframe tbody tr th {\n",
       "        vertical-align: top;\n",
       "    }\n",
       "\n",
       "    .dataframe thead th {\n",
       "        text-align: right;\n",
       "    }\n",
       "</style>\n",
       "<table border=\"1\" class=\"dataframe\">\n",
       "  <thead>\n",
       "    <tr style=\"text-align: right;\">\n",
       "      <th></th>\n",
       "      <th>Date</th>\n",
       "      <th>Configuration</th>\n",
       "      <th>Customer_Postcode</th>\n",
       "      <th>Store_Postcode</th>\n",
       "      <th>Retail_Price</th>\n",
       "      <th>Screen_Size_Inches</th>\n",
       "      <th>Battery_Life_Hours</th>\n",
       "      <th>RAM_GB</th>\n",
       "      <th>Processor_Speeds_GHz</th>\n",
       "      <th>Integrated_Wireless</th>\n",
       "      <th>HD_Size_GB</th>\n",
       "      <th>Bundled_Applications</th>\n",
       "      <th>cust_lon</th>\n",
       "      <th>cust_lat</th>\n",
       "      <th>store_lon</th>\n",
       "      <th>store_lat</th>\n",
       "    </tr>\n",
       "  </thead>\n",
       "  <tbody>\n",
       "    <tr>\n",
       "      <th>0</th>\n",
       "      <td>2008-01-01 0:01</td>\n",
       "      <td>163</td>\n",
       "      <td>EC4V 5BH</td>\n",
       "      <td>SE1 2BN</td>\n",
       "      <td>455.0</td>\n",
       "      <td>15</td>\n",
       "      <td>5</td>\n",
       "      <td>1</td>\n",
       "      <td>2.0</td>\n",
       "      <td>Yes</td>\n",
       "      <td>80</td>\n",
       "      <td>Yes</td>\n",
       "      <td>-0.098731</td>\n",
       "      <td>51.512579</td>\n",
       "      <td>-0.070057</td>\n",
       "      <td>51.500186</td>\n",
       "    </tr>\n",
       "    <tr>\n",
       "      <th>1</th>\n",
       "      <td>2008-01-01 0:02</td>\n",
       "      <td>320</td>\n",
       "      <td>SW4 0JL</td>\n",
       "      <td>SW12 9HD</td>\n",
       "      <td>545.0</td>\n",
       "      <td>15</td>\n",
       "      <td>6</td>\n",
       "      <td>1</td>\n",
       "      <td>2.0</td>\n",
       "      <td>No</td>\n",
       "      <td>300</td>\n",
       "      <td>No</td>\n",
       "      <td>-0.140912</td>\n",
       "      <td>51.464129</td>\n",
       "      <td>-0.149031</td>\n",
       "      <td>51.442091</td>\n",
       "    </tr>\n",
       "    <tr>\n",
       "      <th>2</th>\n",
       "      <td>2008-01-01 0:04</td>\n",
       "      <td>23</td>\n",
       "      <td>EC3V 1LR</td>\n",
       "      <td>E2 0RY</td>\n",
       "      <td>515.0</td>\n",
       "      <td>15</td>\n",
       "      <td>4</td>\n",
       "      <td>1</td>\n",
       "      <td>2.0</td>\n",
       "      <td>Yes</td>\n",
       "      <td>300</td>\n",
       "      <td>Yes</td>\n",
       "      <td>-0.083393</td>\n",
       "      <td>51.512680</td>\n",
       "      <td>-0.045831</td>\n",
       "      <td>51.529272</td>\n",
       "    </tr>\n",
       "  </tbody>\n",
       "</table>\n",
       "</div>"
      ],
      "text/plain": [
       "              Date  Configuration Customer_Postcode Store_Postcode  \\\n",
       "0  2008-01-01 0:01            163          EC4V 5BH        SE1 2BN   \n",
       "1  2008-01-01 0:02            320           SW4 0JL       SW12 9HD   \n",
       "2  2008-01-01 0:04             23          EC3V 1LR         E2 0RY   \n",
       "\n",
       "   Retail_Price  Screen_Size_Inches  Battery_Life_Hours  RAM_GB  \\\n",
       "0         455.0                  15                   5       1   \n",
       "1         545.0                  15                   6       1   \n",
       "2         515.0                  15                   4       1   \n",
       "\n",
       "   Processor_Speeds_GHz Integrated_Wireless  HD_Size_GB Bundled_Applications  \\\n",
       "0                   2.0                 Yes          80                  Yes   \n",
       "1                   2.0                  No         300                   No   \n",
       "2                   2.0                 Yes         300                  Yes   \n",
       "\n",
       "   cust_lon   cust_lat  store_lon  store_lat  \n",
       "0 -0.098731  51.512579  -0.070057  51.500186  \n",
       "1 -0.140912  51.464129  -0.149031  51.442091  \n",
       "2 -0.083393  51.512680  -0.045831  51.529272  "
      ]
     },
     "execution_count": 4,
     "metadata": {},
     "output_type": "execute_result"
    }
   ],
   "source": [
    "lpc = pd.read_csv(\"lpc.csv\")\n",
    "lpc.head(3)"
   ]
  },
  {
   "cell_type": "code",
   "execution_count": 5,
   "metadata": {},
   "outputs": [
    {
     "data": {
      "text/plain": [
       "Date                     object\n",
       "Configuration             int64\n",
       "Customer_Postcode        object\n",
       "Store_Postcode           object\n",
       "Retail_Price            float64\n",
       "Screen_Size_Inches        int64\n",
       "Battery_Life_Hours        int64\n",
       "RAM_GB                    int64\n",
       "Processor_Speeds_GHz    float64\n",
       "Integrated_Wireless      object\n",
       "HD_Size_GB                int64\n",
       "Bundled_Applications     object\n",
       "cust_lon                float64\n",
       "cust_lat                float64\n",
       "store_lon               float64\n",
       "store_lat               float64\n",
       "dtype: object"
      ]
     },
     "execution_count": 5,
     "metadata": {},
     "output_type": "execute_result"
    }
   ],
   "source": [
    "lpc.dtypes"
   ]
  },
  {
   "cell_type": "code",
   "execution_count": 6,
   "metadata": {},
   "outputs": [
    {
     "data": {
      "text/plain": [
       "(294524, 16)"
      ]
     },
     "execution_count": 6,
     "metadata": {},
     "output_type": "execute_result"
    }
   ],
   "source": [
    "lpc.shape"
   ]
  },
  {
   "cell_type": "code",
   "execution_count": 7,
   "metadata": {},
   "outputs": [
    {
     "data": {
      "text/plain": [
       "Date                      207\n",
       "Configuration               0\n",
       "Customer_Postcode           0\n",
       "Store_Postcode              0\n",
       "Retail_Price            13287\n",
       "Screen_Size_Inches          0\n",
       "Battery_Life_Hours          0\n",
       "RAM_GB                      0\n",
       "Processor_Speeds_GHz        0\n",
       "Integrated_Wireless         0\n",
       "HD_Size_GB                  0\n",
       "Bundled_Applications        0\n",
       "cust_lon                    0\n",
       "cust_lat                    0\n",
       "store_lon                   0\n",
       "store_lat                   0\n",
       "dtype: int64"
      ]
     },
     "execution_count": 7,
     "metadata": {},
     "output_type": "execute_result"
    }
   ],
   "source": [
    "lpc.isnull().sum()"
   ]
  },
  {
   "cell_type": "code",
   "execution_count": 8,
   "metadata": {},
   "outputs": [
    {
     "data": {
      "text/plain": [
       "864"
      ]
     },
     "execution_count": 8,
     "metadata": {},
     "output_type": "execute_result"
    }
   ],
   "source": [
    "len(np.unique(lpc.Configuration))"
   ]
  },
  {
   "cell_type": "code",
   "execution_count": 9,
   "metadata": {},
   "outputs": [
    {
     "data": {
      "text/html": [
       "<div>\n",
       "<style scoped>\n",
       "    .dataframe tbody tr th:only-of-type {\n",
       "        vertical-align: middle;\n",
       "    }\n",
       "\n",
       "    .dataframe tbody tr th {\n",
       "        vertical-align: top;\n",
       "    }\n",
       "\n",
       "    .dataframe thead th {\n",
       "        text-align: right;\n",
       "    }\n",
       "</style>\n",
       "<table border=\"1\" class=\"dataframe\">\n",
       "  <thead>\n",
       "    <tr style=\"text-align: right;\">\n",
       "      <th></th>\n",
       "      <th>Configuration</th>\n",
       "      <th>Retail_Price</th>\n",
       "    </tr>\n",
       "  </thead>\n",
       "  <tbody>\n",
       "    <tr>\n",
       "      <th>0</th>\n",
       "      <td>1</td>\n",
       "      <td>337.677419</td>\n",
       "    </tr>\n",
       "    <tr>\n",
       "      <th>1</th>\n",
       "      <td>2</td>\n",
       "      <td>288.419753</td>\n",
       "    </tr>\n",
       "    <tr>\n",
       "      <th>2</th>\n",
       "      <td>3</td>\n",
       "      <td>377.125475</td>\n",
       "    </tr>\n",
       "    <tr>\n",
       "      <th>3</th>\n",
       "      <td>4</td>\n",
       "      <td>328.884462</td>\n",
       "    </tr>\n",
       "    <tr>\n",
       "      <th>4</th>\n",
       "      <td>5</td>\n",
       "      <td>392.042918</td>\n",
       "    </tr>\n",
       "  </tbody>\n",
       "</table>\n",
       "</div>"
      ],
      "text/plain": [
       "   Configuration  Retail_Price\n",
       "0              1    337.677419\n",
       "1              2    288.419753\n",
       "2              3    377.125475\n",
       "3              4    328.884462\n",
       "4              5    392.042918"
      ]
     },
     "execution_count": 9,
     "metadata": {},
     "output_type": "execute_result"
    }
   ],
   "source": [
    "df = pd.DataFrame(lpc.groupby(lpc.Configuration)['Retail_Price'].mean())\n",
    "df = df.reset_index()\n",
    "df.head()"
   ]
  },
  {
   "cell_type": "code",
   "execution_count": 10,
   "metadata": {},
   "outputs": [],
   "source": [
    "lpc['Date'] = lpc['Date'].fillna(method='ffill')"
   ]
  },
  {
   "cell_type": "code",
   "execution_count": 11,
   "metadata": {},
   "outputs": [],
   "source": [
    "def date_fn(x) :\n",
    "    date = x[:10]\n",
    "    return pd.to_datetime(date, format = '%Y%m%d',errors='ignore')"
   ]
  },
  {
   "cell_type": "code",
   "execution_count": 12,
   "metadata": {
    "scrolled": true
   },
   "outputs": [],
   "source": [
    "#'Date'변수 형식 변환\n",
    "lpc['Date'] = lpc['Date'].apply(lambda x : date_fn(x) )"
   ]
  },
  {
   "cell_type": "code",
   "execution_count": 13,
   "metadata": {},
   "outputs": [
    {
     "name": "stderr",
     "output_type": "stream",
     "text": [
      "C:\\Users\\toto0\\Anaconda3\\lib\\site-packages\\pandas\\core\\frame.py:3697: SettingWithCopyWarning: \n",
      "A value is trying to be set on a copy of a slice from a DataFrame\n",
      "\n",
      "See the caveats in the documentation: http://pandas.pydata.org/pandas-docs/stable/indexing.html#indexing-view-versus-copy\n",
      "  errors=errors)\n"
     ]
    }
   ],
   "source": [
    "na_df = lpc[lpc['Retail_Price'].isnull()]\n",
    "na_df.drop('Retail_Price',axis=1,inplace=True)\n",
    "na_df = pd.merge(na_df,df)"
   ]
  },
  {
   "cell_type": "code",
   "execution_count": 14,
   "metadata": {},
   "outputs": [],
   "source": [
    "complete_df = lpc[lpc['Retail_Price'].isnull()==False]"
   ]
  },
  {
   "cell_type": "code",
   "execution_count": 15,
   "metadata": {},
   "outputs": [
    {
     "name": "stderr",
     "output_type": "stream",
     "text": [
      "C:\\Users\\toto0\\Anaconda3\\lib\\site-packages\\ipykernel_launcher.py:1: FutureWarning: Sorting because non-concatenation axis is not aligned. A future version\n",
      "of pandas will change to not sort by default.\n",
      "\n",
      "To accept the future behavior, pass 'sort=False'.\n",
      "\n",
      "To retain the current behavior and silence the warning, pass 'sort=True'.\n",
      "\n",
      "  \"\"\"Entry point for launching an IPython kernel.\n"
     ]
    },
    {
     "name": "stdout",
     "output_type": "stream",
     "text": [
      "(294524, 16)\n",
      "number of nan : 0\n"
     ]
    }
   ],
   "source": [
    "total = pd.concat([complete_df,na_df],axis=0)\n",
    "print(total.shape)\n",
    "print('number of nan :',total.isnull().sum().sum())"
   ]
  },
  {
   "cell_type": "code",
   "execution_count": 16,
   "metadata": {},
   "outputs": [],
   "source": [
    "total = total[list(lpc.columns)]"
   ]
  },
  {
   "cell_type": "code",
   "execution_count": 17,
   "metadata": {},
   "outputs": [],
   "source": [
    "total.to_csv('lpc_imputate_NA.csv',index=False)"
   ]
  }
 ],
 "metadata": {
  "kernelspec": {
   "display_name": "Python 3",
   "language": "python",
   "name": "python3"
  },
  "language_info": {
   "codemirror_mode": {
    "name": "ipython",
    "version": 3
   },
   "file_extension": ".py",
   "mimetype": "text/x-python",
   "name": "python",
   "nbconvert_exporter": "python",
   "pygments_lexer": "ipython3",
   "version": "3.7.1"
  }
 },
 "nbformat": 4,
 "nbformat_minor": 2
}
